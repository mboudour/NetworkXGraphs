{
 "cells": [
  {
   "cell_type": "code",
   "execution_count": 1,
   "metadata": {},
   "outputs": [],
   "source": [
    "# First let me remind you your graphs [1]:\n",
    "    \n",
    "# Billy:\n",
    "# n=7\n",
    "# G=nx.dorogovtsev_goltsev_mendes_graph(n)\n",
    "\n",
    "# Iota:\n",
    "# m=6\n",
    "# n=4\n",
    "# G=nx.lollipop_graph(m, n)\n",
    "\n",
    "# Chris:\n",
    "# m=3\n",
    "# n=7\n",
    "# G=nx.grid_2d_graph(m, n)\n",
    "\n",
    "# Jan:\n",
    "# n=10\n",
    "# k=4\n",
    "# p=0.7\n",
    "# G=nx.connected_watts_strogatz_graph(n, k, p)"
   ]
  },
  {
   "cell_type": "markdown",
   "metadata": {},
   "source": [
    "### Hw2 Part I: Directed Graphs"
   ]
  },
  {
   "cell_type": "code",
   "execution_count": 2,
   "metadata": {},
   "outputs": [],
   "source": [
    "# Create a directed graph Gd (from G) as follows:\n",
    "\n",
    "# Set\n",
    "\n",
    "# m = len(G.nodes)/2\n",
    "\n",
    "# Construct a directed graph Gd as follows:\n",
    "\n",
    "# Gd=nx.DiGraph()\n",
    "# eds = list(G.edges())\n",
    "# for _ in range(m):\n",
    "#     e=random.choice(eds)\n",
    "#     for n, i in enumerate(eds):\n",
    "#         if i == e:\n",
    "#             eds[n] = (e[1],e[0])\n",
    "# Gd.add_edges_from(eds)"
   ]
  },
  {
   "cell_type": "code",
   "execution_count": 3,
   "metadata": {},
   "outputs": [],
   "source": [
    "# DOWNLOAD THE LATEST VERSION OF NetworkXGraphs_1_GraphTypes.ipynb FROM GitHub!!!!\n",
    "\n",
    "# (i) As it was done in Cell 34 of NetworkXGraphs_1_GraphTypes.ipynb, \n",
    "# compute len(Gd.nodes()), Gd.nodes(), len(Gd.edges()), determine the 3 checks of graph types, \n",
    "# finde rece and plot Gd"
   ]
  },
  {
   "cell_type": "code",
   "execution_count": 4,
   "metadata": {},
   "outputs": [],
   "source": [
    "# (ii) As it was done in Cells 51, 52 of NetworkXGraphs_1_GraphTypes.ipynb,\n",
    "# plot Gd in pygraphvis"
   ]
  },
  {
   "cell_type": "markdown",
   "metadata": {},
   "source": [
    "### Hw2 Part II: Weighted Undirected Graphs"
   ]
  },
  {
   "cell_type": "code",
   "execution_count": 5,
   "metadata": {},
   "outputs": [],
   "source": [
    "# Create a weighted undirected graph Gw (from G) as follows:\n",
    "\n",
    "# Gw=G\n",
    "# weight={}\n",
    "# maxw=5\n",
    "# for edge in Gw.edges():\n",
    "#     ed=edge[0]\n",
    "#     de=edge[1]\n",
    "#     Gw[ed][de]['weight']=random.randrange(1,maxw)\n",
    "#     weight[(ed,de)]=Gw[ed][de]['weight']"
   ]
  },
  {
   "cell_type": "code",
   "execution_count": 6,
   "metadata": {},
   "outputs": [],
   "source": [
    "# (i) As it was done in Cells 42, 43 of NetworkXGraphs_1_GraphTypes.ipynb, \n",
    "# compute len(Gw.nodes()), Gw.nodes(), len(Gw.edges()), determine the checks of graph types, \n",
    "# finde rece and plot Gw \n",
    "# setting figsize=(10,10) and \n",
    "# using either spring or circular layout (the one that looks better)"
   ]
  },
  {
   "cell_type": "code",
   "execution_count": 7,
   "metadata": {},
   "outputs": [],
   "source": [
    "# (ii) As it was done in Cells 51, 52 of NetworkXGraphs_1_GraphTypes.ipynb,\n",
    "# plot Gw in pygraphvis"
   ]
  },
  {
   "cell_type": "markdown",
   "metadata": {},
   "source": [
    "### Hw2 Part III: Directed Multigraphs"
   ]
  },
  {
   "cell_type": "code",
   "execution_count": 8,
   "metadata": {},
   "outputs": [],
   "source": [
    "# (i) As it was done in Cell 50 of NetworkXGraphs_1_GraphTypes.ipynb, \n",
    "# create a directed multigraph Gm (from G),\n",
    "# compute len(Gm.nodes()), Gm.nodes(), len(Gm.edges()), determine the checks of graph types"
   ]
  },
  {
   "cell_type": "code",
   "execution_count": 9,
   "metadata": {},
   "outputs": [],
   "source": [
    "# (ii) As it was done in Cells 51, 52 of NetworkXGraphs_1_GraphTypes.ipynb,\n",
    "# plot Gm in pygraphvis"
   ]
  },
  {
   "cell_type": "markdown",
   "metadata": {},
   "source": [
    "### Hw2 Part IV: Undirected Trees"
   ]
  },
  {
   "cell_type": "code",
   "execution_count": 10,
   "metadata": {},
   "outputs": [
    {
     "ename": "NameError",
     "evalue": "name 'nx' is not defined",
     "output_type": "error",
     "traceback": [
      "\u001b[0;31m---------------------------------------------------------------------------\u001b[0m",
      "\u001b[0;31mNameError\u001b[0m                                 Traceback (most recent call last)",
      "\u001b[0;32m<ipython-input-10-5fe48f4b5b93>\u001b[0m in \u001b[0;36m<module>\u001b[0;34m()\u001b[0m\n\u001b[1;32m      1\u001b[0m \u001b[0;31m# Take the minimum spring of your graph G as follows:\u001b[0m\u001b[0;34m\u001b[0m\u001b[0;34m\u001b[0m\u001b[0m\n\u001b[1;32m      2\u001b[0m \u001b[0;34m\u001b[0m\u001b[0m\n\u001b[0;32m----> 3\u001b[0;31m \u001b[0mT\u001b[0m \u001b[0;34m=\u001b[0m \u001b[0mnx\u001b[0m\u001b[0;34m.\u001b[0m\u001b[0mminimum_spanning_tree\u001b[0m\u001b[0;34m(\u001b[0m\u001b[0mG\u001b[0m\u001b[0;34m)\u001b[0m\u001b[0;34m\u001b[0m\u001b[0m\n\u001b[0m\u001b[1;32m      4\u001b[0m \u001b[0;34m\u001b[0m\u001b[0m\n\u001b[1;32m      5\u001b[0m \u001b[0;31m# and plot it as in cell 35\u001b[0m\u001b[0;34m\u001b[0m\u001b[0;34m\u001b[0m\u001b[0m\n",
      "\u001b[0;31mNameError\u001b[0m: name 'nx' is not defined"
     ]
    }
   ],
   "source": [
    "# Take the minimum spring of your graph G as follows:\n",
    "\n",
    "T = nx.minimum_spanning_tree(G)\n",
    "\n",
    "# and plot it as in cell 35"
   ]
  },
  {
   "cell_type": "markdown",
   "metadata": {},
   "source": [
    "### Hw2 Part V: Directed Trees"
   ]
  },
  {
   "cell_type": "code",
   "execution_count": null,
   "metadata": {},
   "outputs": [],
   "source": [
    "# (i) As it was done in Cell 39 of NetworkXGraphs_1_GraphTypes.ipynb, \n",
    "# determine whether your tree is an arborescence and plot it"
   ]
  },
  {
   "cell_type": "code",
   "execution_count": null,
   "metadata": {},
   "outputs": [],
   "source": [
    "# If your tree is NOT an arborescence, consider the list of edges that\n",
    "# need to be reversed so that your tree becomes an arborescence.\n",
    "# Do this as follows:\n",
    "\n",
    "# rl=[(3,4),(5,6)]\n",
    "# S.remove_edges_from(rl)\n",
    "# al=[(4,3),(6,5)]\n",
    "# S.add_edges_from(al)\n",
    "\n",
    "# Subsequently, as it was done in Cell 39, deytermine whether \n",
    "# the modified tree is an arborescence and plot it"
   ]
  },
  {
   "cell_type": "markdown",
   "metadata": {},
   "source": [
    "### Hw2 Part VI: Directed Trees"
   ]
  },
  {
   "cell_type": "code",
   "execution_count": null,
   "metadata": {},
   "outputs": [],
   "source": [
    "# Take a random regular graph as:\n",
    "\n",
    "# G = nx.random_regular_graph(d, n)\n",
    "\n",
    "# Billy:\n",
    "# d=3\n",
    "# n=8\n",
    "\n",
    "# Iota:\n",
    "# d=4\n",
    "# n=6\n",
    "\n",
    "# Chris:\n",
    "# d=5\n",
    "# n=8\n",
    "\n",
    "# Jan:\n",
    "# d=6\n",
    "# n=8\n",
    "\n",
    "# As it was done in Cells 69, 70, 71 of NetworkXGraphs_1_GraphTypes.ipynb, do the following:\n",
    "# 1. Plot G \n",
    "# 2. Find a gnm random graph G2 = nx.gnm_random_graph(len(G.nodes()),len(G.edges())), \n",
    "# which is isomorphic to G and plot it.\n",
    "# 3. Find a gnm random graph G3 = nx.gnm_random_graph(len(G.nodes()),len(G.edges())), \n",
    "# which is not isomorphic to G and plot it."
   ]
  },
  {
   "cell_type": "code",
   "execution_count": null,
   "metadata": {},
   "outputs": [],
   "source": []
  }
 ],
 "metadata": {
  "kernelspec": {
   "display_name": "Python 2",
   "language": "python",
   "name": "python2"
  },
  "language_info": {
   "codemirror_mode": {
    "name": "ipython",
    "version": 2
   },
   "file_extension": ".py",
   "mimetype": "text/x-python",
   "name": "python",
   "nbconvert_exporter": "python",
   "pygments_lexer": "ipython2",
   "version": "2.7.15"
  }
 },
 "nbformat": 4,
 "nbformat_minor": 2
}
